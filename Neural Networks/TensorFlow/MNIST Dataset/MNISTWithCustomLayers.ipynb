{
  "nbformat": 4,
  "nbformat_minor": 0,
  "metadata": {
    "colab": {
      "name": "MNISTWithCustomLayers.ipynb",
      "provenance": [],
      "collapsed_sections": []
    },
    "kernelspec": {
      "name": "python3",
      "display_name": "Python 3"
    },
    "language_info": {
      "name": "python"
    },
    "accelerator": "GPU"
  },
  "cells": [
    {
      "cell_type": "code",
      "execution_count": 1,
      "metadata": {
        "id": "PO5cpkIH5Za-"
      },
      "outputs": [],
      "source": [
        "import tensorflow as tf\n",
        "from tensorflow.keras import layers\n",
        "from tensorflow.keras.datasets import mnist"
      ]
    },
    {
      "cell_type": "code",
      "source": [
        "(X_train, Y_train), (X_test, Y_test) = mnist.load_data()"
      ],
      "metadata": {
        "id": "ZcnLE2ECGYVm"
      },
      "execution_count": 2,
      "outputs": []
    },
    {
      "cell_type": "code",
      "source": [
        "X_train = X_train.reshape(X_train.shape[0], -1) / 255.0\n",
        "X_test = X_test.reshape(X_test.shape[0], -1) / 255.0\n",
        "Y_train = tf.keras.utils.to_categorical(Y_train)\n",
        "Y_test = tf.keras.utils.to_categorical(Y_test)"
      ],
      "metadata": {
        "id": "KNiYsiJ_GjFB"
      },
      "execution_count": 3,
      "outputs": []
    },
    {
      "cell_type": "code",
      "source": [
        "class CustomLayer(layers.Layer):\n",
        "  '''This class implements a custom Neural Network layer.'''\n",
        "  def __init__(self, units, input_dimensions, activation):\n",
        "    #calling parent class constructor\n",
        "    super(CustomLayer, self).__init__()\n",
        "    \n",
        "    #activation\n",
        "    self.activation = activation \n",
        "\n",
        "    #weights\n",
        "    w_initialisation = tf.random_normal_initializer()\n",
        "    self.w = tf.Variable(initial_value = w_initialisation(shape = (input_dimensions, units), dtype = 'float32'), trainable = True)\n",
        "\n",
        "    #biases\n",
        "    b_initialisation = tf.random_normal_initializer()\n",
        "    self.b = tf.Variable(initial_value = b_initialisation(shape = (units,), dtype = 'float32'), trainable = True)\n",
        "\n",
        "  def call(self, inputs):\n",
        "    #calculating the linear output\n",
        "    linear_output = tf.add(tf.matmul(inputs, self.w), self.b)\n",
        "\n",
        "    #activating the linear output\n",
        "    if self.activation == 'relu':\n",
        "      return tf.nn.relu(linear_output)\n",
        "    elif self.activation == 'softmax':\n",
        "      return tf.nn.softmax(linear_output)   "
      ],
      "metadata": {
        "id": "tRB-K7Dc8Xy8"
      },
      "execution_count": 4,
      "outputs": []
    },
    {
      "cell_type": "code",
      "source": [
        "class CustomModel(tf.keras.Model):\n",
        "  '''This class implements a custom Neural Network model.'''\n",
        "  def __init__(self, n_input, n_hidden_1, n_hidden_2, n_classes):\n",
        "    super(CustomModel, self).__init__()\n",
        "    self.layer_1 = CustomLayer(n_hidden_1, n_input, 'relu')\n",
        "    self.layer_2 = CustomLayer(n_hidden_2, n_hidden_1, 'relu')\n",
        "    self.output_layer = CustomLayer(n_classes, n_hidden_2, 'softmax')\n",
        "\n",
        "  def call(self, inputs):\n",
        "    X = self.layer_1(inputs)\n",
        "    X = self.layer_2(X)\n",
        "    X = self.output_layer(X)\n",
        "    return X"
      ],
      "metadata": {
        "id": "MAUO05j6CZcL"
      },
      "execution_count": 5,
      "outputs": []
    },
    {
      "cell_type": "code",
      "source": [
        "model = CustomModel(784, 256, 256, 10)"
      ],
      "metadata": {
        "id": "LHLPi3nAEX5T"
      },
      "execution_count": 6,
      "outputs": []
    },
    {
      "cell_type": "code",
      "source": [
        "model.compile(optimizer = 'adam', loss = 'categorical_crossentropy', metrics = ['accuracy'])"
      ],
      "metadata": {
        "id": "VckkoZnEHW9A"
      },
      "execution_count": 7,
      "outputs": []
    },
    {
      "cell_type": "code",
      "source": [
        "model.fit(X_train, Y_train, epochs = 10, batch_size = 1000)"
      ],
      "metadata": {
        "colab": {
          "base_uri": "https://localhost:8080/"
        },
        "id": "g7lZ-foFHpX5",
        "outputId": "207cb982-b1b6-490d-8b79-3af246d2c498"
      },
      "execution_count": 8,
      "outputs": [
        {
          "output_type": "stream",
          "name": "stdout",
          "text": [
            "Epoch 1/10\n",
            "60/60 [==============================] - 2s 11ms/step - loss: 0.6669 - accuracy: 0.8345\n",
            "Epoch 2/10\n",
            "60/60 [==============================] - 1s 9ms/step - loss: 0.2291 - accuracy: 0.9343\n",
            "Epoch 3/10\n",
            "60/60 [==============================] - 0s 8ms/step - loss: 0.1659 - accuracy: 0.9521\n",
            "Epoch 4/10\n",
            "60/60 [==============================] - 0s 7ms/step - loss: 0.1270 - accuracy: 0.9637\n",
            "Epoch 5/10\n",
            "60/60 [==============================] - 1s 9ms/step - loss: 0.1022 - accuracy: 0.9705\n",
            "Epoch 6/10\n",
            "60/60 [==============================] - 1s 9ms/step - loss: 0.0831 - accuracy: 0.9761\n",
            "Epoch 7/10\n",
            "60/60 [==============================] - 1s 9ms/step - loss: 0.0710 - accuracy: 0.9794\n",
            "Epoch 8/10\n",
            "60/60 [==============================] - 1s 10ms/step - loss: 0.0585 - accuracy: 0.9830\n",
            "Epoch 9/10\n",
            "60/60 [==============================] - 1s 9ms/step - loss: 0.0504 - accuracy: 0.9859\n",
            "Epoch 10/10\n",
            "60/60 [==============================] - 1s 11ms/step - loss: 0.0429 - accuracy: 0.9879\n"
          ]
        },
        {
          "output_type": "execute_result",
          "data": {
            "text/plain": [
              "<keras.callbacks.History at 0x7fda6f621590>"
            ]
          },
          "metadata": {},
          "execution_count": 8
        }
      ]
    },
    {
      "cell_type": "code",
      "source": [
        "loss, accuracy = model.evaluate(X_test, Y_test)"
      ],
      "metadata": {
        "colab": {
          "base_uri": "https://localhost:8080/"
        },
        "id": "9OJnzq4MIMQP",
        "outputId": "1a63a857-4bc8-4580-95b6-aa126be1dd90"
      },
      "execution_count": 9,
      "outputs": [
        {
          "output_type": "stream",
          "name": "stdout",
          "text": [
            "313/313 [==============================] - 3s 7ms/step - loss: 0.0751 - accuracy: 0.9755\n"
          ]
        }
      ]
    }
  ]
}