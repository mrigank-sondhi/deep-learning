{
 "cells": [
  {
   "cell_type": "code",
   "execution_count": 1,
   "id": "2f7c785a",
   "metadata": {},
   "outputs": [],
   "source": [
    "import numpy as np"
   ]
  },
  {
   "cell_type": "code",
   "execution_count": 2,
   "id": "3b755fd0",
   "metadata": {},
   "outputs": [
    {
     "data": {
      "text/plain": [
       "((4, 2), (4, 1))"
      ]
     },
     "execution_count": 2,
     "metadata": {},
     "output_type": "execute_result"
    }
   ],
   "source": [
    "X = np.array([[0,0],[0,1],[1,0],[1,1]])\n",
    "Y = np.array([[0,1,1,0]]).T\n",
    "X.shape, Y.shape"
   ]
  },
  {
   "cell_type": "code",
   "execution_count": 3,
   "id": "231406ad",
   "metadata": {},
   "outputs": [],
   "source": [
    "def sigmoid(z):\n",
    "    return 1/(1 + np.exp(-z))"
   ]
  },
  {
   "cell_type": "code",
   "execution_count": 4,
   "id": "f0f694ac",
   "metadata": {},
   "outputs": [],
   "source": [
    "def derivative_sigmoid(z):\n",
    "    return sigmoid(z)*(1 - sigmoid(z))"
   ]
  },
  {
   "cell_type": "code",
   "execution_count": 5,
   "id": "4f196b6c",
   "metadata": {},
   "outputs": [],
   "source": [
    "#one hidden layer weights\n",
    "wh = 2 * np.random.random((2, 2)) - 1\n",
    "bh = 2 * np.random.random((1, 2)) - 1\n",
    "wo = 2 * np.random.random((2, 1)) - 1\n",
    "bo = 2 * np.random.random((1, 1)) - 1\n",
    "alpha = 1"
   ]
  },
  {
   "cell_type": "code",
   "execution_count": 6,
   "id": "481afa1b",
   "metadata": {},
   "outputs": [
    {
     "name": "stdout",
     "output_type": "stream",
     "text": [
      "Final Output:\n",
      "[[0.00393228]\n",
      " [0.99669621]\n",
      " [0.99669572]\n",
      " [0.00335984]]\n",
      "---------------------------------------\n",
      "Trained Weights of hidden layer:\n",
      "[[7.31443784 5.56152416]\n",
      " [7.31665502 5.56210452]]\n",
      "Trained Biases of hidden layer:\n",
      "[[-3.3504131 -8.5131016]]\n",
      "---------------------------------------\n",
      "Trained Weights of output layer:\n",
      "[[ 12.55577813]\n",
      " [-13.19407815]]\n",
      "Trained Bias of output layer:\n",
      "[[-5.95735662]]\n"
     ]
    }
   ],
   "source": [
    "for i in range(100000):\n",
    "    #forward propagation with one hidden layer\n",
    "    output_0 = X\n",
    "    input_1 = np.dot(output_0, wh) + bh\n",
    "    output_1 = sigmoid(input_1)\n",
    "    input_2 = np.dot(output_1, wo) + bo\n",
    "    output_2 = sigmoid(input_2)\n",
    "\n",
    "    #backward propagation with one hidden layer\n",
    "    first_term_output_2 = output_2 - Y\n",
    "    second_term_output_2 = derivative_sigmoid(input_2)\n",
    "    first_two_2 = first_term_output_2 * second_term_output_2\n",
    "\n",
    "    first_term_output_1 = np.dot(first_two_2, wo.T)\n",
    "    second_term_output_1 = derivative_sigmoid(input_1)\n",
    "    first_two_1 = first_term_output_1 * second_term_output_1\n",
    "\n",
    "    derivative_2_w = np.dot(output_1.T, first_two_2)  \n",
    "    wo = wo - alpha * derivative_2_w \n",
    "\n",
    "    derivative_2_b = first_two_2.sum(axis = 0, keepdims = True) \n",
    "    bo = bo - alpha * derivative_2_b  \n",
    "\n",
    "    derivative_1_w = np.dot(output_0.T, first_two_1)\n",
    "    wh = wh - alpha * derivative_1_w \n",
    "\n",
    "    derivative_1_b = first_two_1.sum(axis = 0, keepdims = True)\n",
    "    bh = bh - alpha * derivative_1_b\n",
    "    \n",
    "output_0 = X\n",
    "input_1 = np.dot(output_0, wh) + bh\n",
    "output_1 = sigmoid(input_1)\n",
    "input_2 = np.dot(output_1, wo) + bo\n",
    "output_2 = sigmoid(input_2)\n",
    "\n",
    "print('Final Output:')\n",
    "print(output_2)\n",
    "print('---------------------------------------')\n",
    "print('Trained Weights of hidden layer:')\n",
    "print(wh)\n",
    "print('Trained Biases of hidden layer:')\n",
    "print(bh)\n",
    "print('---------------------------------------')\n",
    "print('Trained Weights of output layer:')\n",
    "print(wo)\n",
    "print('Trained Bias of output layer:')\n",
    "print(bo)"
   ]
  }
 ],
 "metadata": {
  "kernelspec": {
   "display_name": "Python 3",
   "language": "python",
   "name": "python3"
  },
  "language_info": {
   "codemirror_mode": {
    "name": "ipython",
    "version": 3
   },
   "file_extension": ".py",
   "mimetype": "text/x-python",
   "name": "python",
   "nbconvert_exporter": "python",
   "pygments_lexer": "ipython3",
   "version": "3.8.8"
  }
 },
 "nbformat": 4,
 "nbformat_minor": 5
}
