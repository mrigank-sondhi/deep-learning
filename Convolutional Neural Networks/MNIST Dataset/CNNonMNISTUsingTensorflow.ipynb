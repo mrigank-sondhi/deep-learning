{
  "nbformat": 4,
  "nbformat_minor": 0,
  "metadata": {
    "colab": {
      "name": "CNNonMNISTUsingTensorflow.ipynb",
      "provenance": [],
      "collapsed_sections": []
    },
    "kernelspec": {
      "name": "python3",
      "display_name": "Python 3"
    },
    "language_info": {
      "name": "python"
    },
    "accelerator": "GPU"
  },
  "cells": [
    {
      "cell_type": "code",
      "source": [
        "import tensorflow.compat.v1 as tf\n",
        "tf.disable_v2_behavior()\n",
        "from tensorflow.keras.datasets import mnist"
      ],
      "metadata": {
        "colab": {
          "base_uri": "https://localhost:8080/"
        },
        "id": "0YeyFvhcTMyv",
        "outputId": "558e45a0-fe52-4274-e6ba-fc0af31cbbc8"
      },
      "execution_count": 1,
      "outputs": [
        {
          "output_type": "stream",
          "name": "stdout",
          "text": [
            "WARNING:tensorflow:From /usr/local/lib/python3.7/dist-packages/tensorflow/python/compat/v2_compat.py:107: disable_resource_variables (from tensorflow.python.ops.variable_scope) is deprecated and will be removed in a future version.\n",
            "Instructions for updating:\n",
            "non-resource variables are not supported in the long term\n"
          ]
        }
      ]
    },
    {
      "cell_type": "code",
      "source": [
        "(X_train, Y_train), (X_test, Y_test) = mnist.load_data()"
      ],
      "metadata": {
        "id": "l793xrAAhnQ6"
      },
      "execution_count": 2,
      "outputs": []
    },
    {
      "cell_type": "code",
      "source": [
        "X_train = X_train.reshape(-1, 28, 28, 1)\n",
        "X_test = X_test.reshape(-1, 28, 28, 1)\n",
        "\n",
        "Y_train = tf.keras.utils.to_categorical(Y_train)\n",
        "Y_test = tf.keras.utils.to_categorical(Y_test)"
      ],
      "metadata": {
        "id": "FGipEfjvQVHR"
      },
      "execution_count": 3,
      "outputs": []
    },
    {
      "cell_type": "code",
      "source": [
        "input_width = 28\n",
        "input_height = 28\n",
        "input_channels = 1\n",
        "input_pixels = 784\n",
        "\n",
        "n_conv1 = 32\n",
        "conv1_k = 5\n",
        "stride_conv1 = 1\n",
        "max_pool1_k = 2\n",
        "\n",
        "n_conv2 = 64\n",
        "conv2_k = 5\n",
        "stride_conv2 = 1\n",
        "max_pool2_k = 2\n",
        "\n",
        "n_hidden = 1024\n",
        "n_out = 10"
      ],
      "metadata": {
        "id": "rkMu89BYiNxh"
      },
      "execution_count": 4,
      "outputs": []
    },
    {
      "cell_type": "code",
      "source": [
        "weights = {\n",
        "    'wc1' : tf.Variable(tf.random.normal([conv1_k, conv1_k, input_channels, n_conv1])),\n",
        "    'wc2' : tf.Variable(tf.random.normal([conv2_k, conv2_k, n_conv1, n_conv2])),\n",
        "    'wh1' : tf.Variable(tf.random.normal([(input_width//(max_pool1_k*max_pool2_k))*(input_height//(max_pool1_k*max_pool2_k))*(n_conv2), n_hidden])),\n",
        "    'wo' : tf.Variable(tf.random.normal([n_hidden, n_out]))\n",
        "}\n",
        "\n",
        "biases = {\n",
        "    'bc1' : tf.Variable(tf.random.normal([n_conv1])),\n",
        "    'bc2' : tf.Variable(tf.random.normal([n_conv2])),\n",
        "    'bh1' : tf.Variable(tf.random.normal([n_hidden])),\n",
        "    'bo' : tf.Variable(tf.random.normal([n_out]))\n",
        "}"
      ],
      "metadata": {
        "id": "ld9rDeG1kcZp"
      },
      "execution_count": 5,
      "outputs": []
    },
    {
      "cell_type": "code",
      "source": [
        "def convolution(X, weights, biases, stride = 1):\n",
        "  output = tf.nn.conv2d(X, weights, strides = [1, stride, stride, 1], padding = 'SAME')\n",
        "  output = tf.nn.bias_add(output, biases)\n",
        "  output = tf.nn.relu(output)\n",
        "  return output \n",
        "\n",
        "def maxpooling(X, k = 2):\n",
        "  return tf.nn.max_pool(X, ksize = [1, k, k, 1], strides = [1, k, k, 1], padding = 'SAME')"
      ],
      "metadata": {
        "id": "TMxgUafU9W8U"
      },
      "execution_count": 6,
      "outputs": []
    },
    {
      "cell_type": "code",
      "source": [
        "def cnn(X, weights, biases, keep_prob):\n",
        "  tf.reshape(X, shape = [-1, input_width, input_height, input_channels])\n",
        "  \n",
        "  conv1 = convolution(X, weights['wc1'], biases['bc1'], stride_conv1)\n",
        "  max_pool1 = maxpooling(conv1, max_pool1_k)\n",
        "  \n",
        "  conv2 = convolution(max_pool1, weights['wc2'], biases['bc2'], stride_conv2)\n",
        "  max_pool2 = maxpooling(conv2, max_pool2_k)\n",
        "\n",
        "  hidden_input = tf.reshape(max_pool2, shape = [-1, (input_width//(max_pool1_k*max_pool2_k))*(input_height//(max_pool1_k*max_pool2_k))*(n_conv2)])\n",
        "  hidden_output_before_activation = tf.add(tf.matmul(hidden_input, weights['wh1']), biases['bh1'])\n",
        "  hidden_output_before_dropout = tf.nn.relu(hidden_output_before_activation)\n",
        "  hidden_output = tf.nn.dropout(hidden_output_before_dropout, keep_prob = keep_prob)\n",
        "\n",
        "  output = tf.add(tf.matmul(hidden_output, weights['wo']), biases['bo'])\n",
        "  return output"
      ],
      "metadata": {
        "id": "Lv2YKC4fpXSC"
      },
      "execution_count": 7,
      "outputs": []
    },
    {
      "cell_type": "code",
      "source": [
        "X = tf.placeholder('float', [None, input_width, input_height, input_channels])\n",
        "Y = tf.placeholder(tf.int32, [None, n_out])\n",
        "keep_prob = tf.placeholder('float')\n",
        "predictions = cnn(X, weights, biases, keep_prob)"
      ],
      "metadata": {
        "colab": {
          "base_uri": "https://localhost:8080/"
        },
        "id": "ZSQs7I-vKPyE",
        "outputId": "b721f6ab-9cfa-47df-a974-8329930d6e62"
      },
      "execution_count": 8,
      "outputs": [
        {
          "output_type": "stream",
          "name": "stdout",
          "text": [
            "WARNING:tensorflow:From /usr/local/lib/python3.7/dist-packages/tensorflow/python/util/dispatch.py:1082: calling dropout (from tensorflow.python.ops.nn_ops) with keep_prob is deprecated and will be removed in a future version.\n",
            "Instructions for updating:\n",
            "Please use `rate` instead of `keep_prob`. Rate should be set to `rate = 1 - keep_prob`.\n"
          ]
        }
      ]
    },
    {
      "cell_type": "code",
      "source": [
        "cost = tf.reduce_mean(tf.nn.softmax_cross_entropy_with_logits_v2(logits = predictions, labels = Y))"
      ],
      "metadata": {
        "id": "QTD6bV11Kg6G"
      },
      "execution_count": 9,
      "outputs": []
    },
    {
      "cell_type": "code",
      "source": [
        "optimizer = tf.train.AdamOptimizer(learning_rate = 0.01)\n",
        "optimize = optimizer.minimize(cost)"
      ],
      "metadata": {
        "id": "qVktjPfyPG-E"
      },
      "execution_count": 10,
      "outputs": []
    },
    {
      "cell_type": "code",
      "source": [
        "session = tf.Session()\n",
        "session.run(tf.global_variables_initializer())"
      ],
      "metadata": {
        "id": "bIcP6xfbPR5I"
      },
      "execution_count": 11,
      "outputs": []
    },
    {
      "cell_type": "code",
      "source": [
        "batch_size = 100\n",
        "for i in range(30):\n",
        "    num_batches = X_train.shape[0]//batch_size\n",
        "    total_cost = 0\n",
        "    for j in range(num_batches):\n",
        "        batch_x, batch_y = X_train[(batch_size)*((j-1) + 1):(batch_size)*(j + 1)], Y_train[(batch_size)*((j-1) + 1):(batch_size)*(j + 1)]\n",
        "        c, _ = session.run([cost,optimize], feed_dict = {X : batch_x , Y : batch_y, keep_prob : 0.8})\n",
        "        total_cost += c\n",
        "    print(total_cost)"
      ],
      "metadata": {
        "colab": {
          "base_uri": "https://localhost:8080/"
        },
        "id": "_dBqtf7-PdcG",
        "outputId": "3a363b9b-0907-4f22-c116-6e3829c2d45f"
      },
      "execution_count": 12,
      "outputs": [
        {
          "output_type": "stream",
          "name": "stdout",
          "text": [
            "210761297.70428467\n",
            "9602551.91255188\n",
            "4775957.81886673\n",
            "2820271.2697734833\n",
            "2298819.2201566696\n",
            "2302541.9937057495\n",
            "1882851.6473255157\n",
            "1936090.3348546028\n",
            "1581299.3637580872\n",
            "1652156.0100933313\n",
            "1231205.5764341354\n",
            "1181665.0497956276\n",
            "1025366.9485554695\n",
            "1302603.026834488\n",
            "868921.4429721832\n",
            "1017658.8087863922\n",
            "687028.8094615936\n",
            "884557.0963525772\n",
            "765961.9762438536\n",
            "608645.4212729931\n",
            "706923.1929469109\n",
            "1012878.7100073099\n",
            "559260.2942724228\n",
            "648561.8086211681\n",
            "539255.1690759659\n",
            "523004.439661026\n",
            "551939.8937356472\n",
            "439275.47355890274\n",
            "530294.6708650589\n",
            "725277.221704483\n"
          ]
        }
      ]
    },
    {
      "cell_type": "code",
      "source": [
        "predictions = tf.argmax(predictions, 1)\n",
        "correct_labels = tf.argmax(Y, 1)\n",
        "correct_predictions = tf.equal(predictions, correct_labels)\n",
        "predictions, correct_preds  = session.run([predictions, correct_predictions], feed_dict={X : X_test, Y : Y_test, keep_prob : 1.0})\n",
        "print(f'Accuracy: {(correct_preds.sum()/len(correct_preds))*100}%') "
      ],
      "metadata": {
        "colab": {
          "base_uri": "https://localhost:8080/"
        },
        "id": "NhxxhUYaQKtl",
        "outputId": "2e57ad9a-e0bc-4e98-e06e-d3c695a297e6"
      },
      "execution_count": 13,
      "outputs": [
        {
          "output_type": "stream",
          "name": "stdout",
          "text": [
            "Accuracy: 98.79%\n"
          ]
        }
      ]
    }
  ]
}