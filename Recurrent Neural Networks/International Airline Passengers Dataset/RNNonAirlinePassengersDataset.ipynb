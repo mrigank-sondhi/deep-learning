{
  "nbformat": 4,
  "nbformat_minor": 0,
  "metadata": {
    "colab": {
      "name": "RNNonAirlines.ipynb",
      "provenance": [],
      "collapsed_sections": []
    },
    "kernelspec": {
      "name": "python3",
      "display_name": "Python 3"
    },
    "language_info": {
      "name": "python"
    }
  },
  "cells": [
    {
      "cell_type": "code",
      "execution_count": 1,
      "metadata": {
        "id": "qJCgX58SHDdB"
      },
      "outputs": [],
      "source": [
        "import tensorflow as tf\n",
        "import pandas as pd\n",
        "from sklearn.preprocessing import MinMaxScaler\n",
        "import numpy as np\n",
        "from tensorflow.keras import Sequential\n",
        "from tensorflow.keras.layers import SimpleRNN, Dense\n",
        "import matplotlib.pyplot as plt"
      ]
    },
    {
      "cell_type": "code",
      "source": [
        "df = pd.read_csv('international-airline-passengers.csv', usecols = [1])"
      ],
      "metadata": {
        "id": "76NSzFe4KSxF"
      },
      "execution_count": 2,
      "outputs": []
    },
    {
      "cell_type": "code",
      "source": [
        "df"
      ],
      "metadata": {
        "colab": {
          "base_uri": "https://localhost:8080/",
          "height": 423
        },
        "id": "hVGACpDoKaDs",
        "outputId": "df02b8a5-53ef-4948-83bd-717026b4fb22"
      },
      "execution_count": 3,
      "outputs": [
        {
          "output_type": "execute_result",
          "data": {
            "text/plain": [
              "     International airline passengers: monthly totals in thousands. Jan 49 ? Dec 60\n",
              "0                                                  112                             \n",
              "1                                                  118                             \n",
              "2                                                  132                             \n",
              "3                                                  129                             \n",
              "4                                                  121                             \n",
              "..                                                 ...                             \n",
              "139                                                606                             \n",
              "140                                                508                             \n",
              "141                                                461                             \n",
              "142                                                390                             \n",
              "143                                                432                             \n",
              "\n",
              "[144 rows x 1 columns]"
            ],
            "text/html": [
              "\n",
              "  <div id=\"df-fffc4d90-fd09-477c-9390-5b90601bb421\">\n",
              "    <div class=\"colab-df-container\">\n",
              "      <div>\n",
              "<style scoped>\n",
              "    .dataframe tbody tr th:only-of-type {\n",
              "        vertical-align: middle;\n",
              "    }\n",
              "\n",
              "    .dataframe tbody tr th {\n",
              "        vertical-align: top;\n",
              "    }\n",
              "\n",
              "    .dataframe thead th {\n",
              "        text-align: right;\n",
              "    }\n",
              "</style>\n",
              "<table border=\"1\" class=\"dataframe\">\n",
              "  <thead>\n",
              "    <tr style=\"text-align: right;\">\n",
              "      <th></th>\n",
              "      <th>International airline passengers: monthly totals in thousands. Jan 49 ? Dec 60</th>\n",
              "    </tr>\n",
              "  </thead>\n",
              "  <tbody>\n",
              "    <tr>\n",
              "      <th>0</th>\n",
              "      <td>112</td>\n",
              "    </tr>\n",
              "    <tr>\n",
              "      <th>1</th>\n",
              "      <td>118</td>\n",
              "    </tr>\n",
              "    <tr>\n",
              "      <th>2</th>\n",
              "      <td>132</td>\n",
              "    </tr>\n",
              "    <tr>\n",
              "      <th>3</th>\n",
              "      <td>129</td>\n",
              "    </tr>\n",
              "    <tr>\n",
              "      <th>4</th>\n",
              "      <td>121</td>\n",
              "    </tr>\n",
              "    <tr>\n",
              "      <th>...</th>\n",
              "      <td>...</td>\n",
              "    </tr>\n",
              "    <tr>\n",
              "      <th>139</th>\n",
              "      <td>606</td>\n",
              "    </tr>\n",
              "    <tr>\n",
              "      <th>140</th>\n",
              "      <td>508</td>\n",
              "    </tr>\n",
              "    <tr>\n",
              "      <th>141</th>\n",
              "      <td>461</td>\n",
              "    </tr>\n",
              "    <tr>\n",
              "      <th>142</th>\n",
              "      <td>390</td>\n",
              "    </tr>\n",
              "    <tr>\n",
              "      <th>143</th>\n",
              "      <td>432</td>\n",
              "    </tr>\n",
              "  </tbody>\n",
              "</table>\n",
              "<p>144 rows × 1 columns</p>\n",
              "</div>\n",
              "      <button class=\"colab-df-convert\" onclick=\"convertToInteractive('df-fffc4d90-fd09-477c-9390-5b90601bb421')\"\n",
              "              title=\"Convert this dataframe to an interactive table.\"\n",
              "              style=\"display:none;\">\n",
              "        \n",
              "  <svg xmlns=\"http://www.w3.org/2000/svg\" height=\"24px\"viewBox=\"0 0 24 24\"\n",
              "       width=\"24px\">\n",
              "    <path d=\"M0 0h24v24H0V0z\" fill=\"none\"/>\n",
              "    <path d=\"M18.56 5.44l.94 2.06.94-2.06 2.06-.94-2.06-.94-.94-2.06-.94 2.06-2.06.94zm-11 1L8.5 8.5l.94-2.06 2.06-.94-2.06-.94L8.5 2.5l-.94 2.06-2.06.94zm10 10l.94 2.06.94-2.06 2.06-.94-2.06-.94-.94-2.06-.94 2.06-2.06.94z\"/><path d=\"M17.41 7.96l-1.37-1.37c-.4-.4-.92-.59-1.43-.59-.52 0-1.04.2-1.43.59L10.3 9.45l-7.72 7.72c-.78.78-.78 2.05 0 2.83L4 21.41c.39.39.9.59 1.41.59.51 0 1.02-.2 1.41-.59l7.78-7.78 2.81-2.81c.8-.78.8-2.07 0-2.86zM5.41 20L4 18.59l7.72-7.72 1.47 1.35L5.41 20z\"/>\n",
              "  </svg>\n",
              "      </button>\n",
              "      \n",
              "  <style>\n",
              "    .colab-df-container {\n",
              "      display:flex;\n",
              "      flex-wrap:wrap;\n",
              "      gap: 12px;\n",
              "    }\n",
              "\n",
              "    .colab-df-convert {\n",
              "      background-color: #E8F0FE;\n",
              "      border: none;\n",
              "      border-radius: 50%;\n",
              "      cursor: pointer;\n",
              "      display: none;\n",
              "      fill: #1967D2;\n",
              "      height: 32px;\n",
              "      padding: 0 0 0 0;\n",
              "      width: 32px;\n",
              "    }\n",
              "\n",
              "    .colab-df-convert:hover {\n",
              "      background-color: #E2EBFA;\n",
              "      box-shadow: 0px 1px 2px rgba(60, 64, 67, 0.3), 0px 1px 3px 1px rgba(60, 64, 67, 0.15);\n",
              "      fill: #174EA6;\n",
              "    }\n",
              "\n",
              "    [theme=dark] .colab-df-convert {\n",
              "      background-color: #3B4455;\n",
              "      fill: #D2E3FC;\n",
              "    }\n",
              "\n",
              "    [theme=dark] .colab-df-convert:hover {\n",
              "      background-color: #434B5C;\n",
              "      box-shadow: 0px 1px 3px 1px rgba(0, 0, 0, 0.15);\n",
              "      filter: drop-shadow(0px 1px 2px rgba(0, 0, 0, 0.3));\n",
              "      fill: #FFFFFF;\n",
              "    }\n",
              "  </style>\n",
              "\n",
              "      <script>\n",
              "        const buttonEl =\n",
              "          document.querySelector('#df-fffc4d90-fd09-477c-9390-5b90601bb421 button.colab-df-convert');\n",
              "        buttonEl.style.display =\n",
              "          google.colab.kernel.accessAllowed ? 'block' : 'none';\n",
              "\n",
              "        async function convertToInteractive(key) {\n",
              "          const element = document.querySelector('#df-fffc4d90-fd09-477c-9390-5b90601bb421');\n",
              "          const dataTable =\n",
              "            await google.colab.kernel.invokeFunction('convertToInteractive',\n",
              "                                                     [key], {});\n",
              "          if (!dataTable) return;\n",
              "\n",
              "          const docLinkHtml = 'Like what you see? Visit the ' +\n",
              "            '<a target=\"_blank\" href=https://colab.research.google.com/notebooks/data_table.ipynb>data table notebook</a>'\n",
              "            + ' to learn more about interactive tables.';\n",
              "          element.innerHTML = '';\n",
              "          dataTable['output_type'] = 'display_data';\n",
              "          await google.colab.output.renderOutput(dataTable, element);\n",
              "          const docLink = document.createElement('div');\n",
              "          docLink.innerHTML = docLinkHtml;\n",
              "          element.appendChild(docLink);\n",
              "        }\n",
              "      </script>\n",
              "    </div>\n",
              "  </div>\n",
              "  "
            ]
          },
          "metadata": {},
          "execution_count": 3
        }
      ]
    },
    {
      "cell_type": "code",
      "source": [
        "values = df.values.astype('float32')"
      ],
      "metadata": {
        "id": "Fs0HR2yTKax5"
      },
      "execution_count": 4,
      "outputs": []
    },
    {
      "cell_type": "code",
      "source": [
        "train_size = int(values.shape[0] * (2/3))\n",
        "test_size = values.shape[0] - train_size\n",
        "\n",
        "train_data = values[:train_size]\n",
        "test_data = values[train_size:]"
      ],
      "metadata": {
        "id": "PuOJdlj1LQMw"
      },
      "execution_count": 5,
      "outputs": []
    },
    {
      "cell_type": "code",
      "source": [
        "scaler = MinMaxScaler(feature_range = (0, 1))\n",
        "train_data = scaler.fit_transform(train_data)\n",
        "test_data = scaler.transform(test_data)"
      ],
      "metadata": {
        "id": "xyIC1PdQL7pC"
      },
      "execution_count": 6,
      "outputs": []
    },
    {
      "cell_type": "code",
      "source": [
        "def create_dataset(data, look_back):\n",
        "  X_data, Y_data = [], []\n",
        "  for i in range(data.shape[0] - look_back):\n",
        "    X = data[i:i+look_back, 0]\n",
        "    Y = data[i+look_back, 0]\n",
        "    X_data.append(X)\n",
        "    Y_data.append(Y)\n",
        "  return np.array(X_data), np.array(Y_data)"
      ],
      "metadata": {
        "id": "2oi4mQb5NM-N"
      },
      "execution_count": 7,
      "outputs": []
    },
    {
      "cell_type": "code",
      "source": [
        "look_back = 12\n",
        "X_train, Y_train = create_dataset(train_data, look_back)\n",
        "X_test, Y_test = create_dataset(test_data, look_back)"
      ],
      "metadata": {
        "id": "McLQjqTUNRho"
      },
      "execution_count": 8,
      "outputs": []
    },
    {
      "cell_type": "code",
      "source": [
        "X_train = X_train.reshape(-1, look_back, 1)\n",
        "X_test = X_test.reshape(-1, look_back, 1)\n",
        "Y_train = Y_train.reshape(-1, 1)\n",
        "Y_test = Y_test.reshape(-1, 1)"
      ],
      "metadata": {
        "id": "XjRnGXhWQV9h"
      },
      "execution_count": 9,
      "outputs": []
    },
    {
      "cell_type": "code",
      "source": [
        "model = Sequential()\n",
        "model.add(SimpleRNN(4, input_shape = (look_back, 1)))\n",
        "model.add(Dense(1))"
      ],
      "metadata": {
        "id": "X15NcLXqUzu1"
      },
      "execution_count": 10,
      "outputs": []
    },
    {
      "cell_type": "code",
      "source": [
        "model.summary()"
      ],
      "metadata": {
        "colab": {
          "base_uri": "https://localhost:8080/"
        },
        "id": "cKrh7KLTUz14",
        "outputId": "3765ee3d-ba79-4a6b-b49b-ef4c732097ac"
      },
      "execution_count": 11,
      "outputs": [
        {
          "output_type": "stream",
          "name": "stdout",
          "text": [
            "Model: \"sequential\"\n",
            "_________________________________________________________________\n",
            " Layer (type)                Output Shape              Param #   \n",
            "=================================================================\n",
            " simple_rnn (SimpleRNN)      (None, 4)                 24        \n",
            "                                                                 \n",
            " dense (Dense)               (None, 1)                 5         \n",
            "                                                                 \n",
            "=================================================================\n",
            "Total params: 29\n",
            "Trainable params: 29\n",
            "Non-trainable params: 0\n",
            "_________________________________________________________________\n"
          ]
        }
      ]
    },
    {
      "cell_type": "code",
      "source": [
        "model.compile(optimizer= 'adam', loss = 'mean_squared_error', metrics = [tf.keras.metrics.RootMeanSquaredError()])\n",
        "model.fit(X_train, Y_train, epochs = 100, batch_size = 1)"
      ],
      "metadata": {
        "colab": {
          "base_uri": "https://localhost:8080/"
        },
        "id": "8AbrriZbUz5r",
        "outputId": "e30cb484-aae3-4b6a-aaa8-b97046f2d1a1"
      },
      "execution_count": 12,
      "outputs": [
        {
          "output_type": "stream",
          "name": "stdout",
          "text": [
            "Epoch 1/100\n",
            "84/84 [==============================] - 1s 3ms/step - loss: 0.3799 - root_mean_squared_error: 0.6164\n",
            "Epoch 2/100\n",
            "84/84 [==============================] - 0s 3ms/step - loss: 0.0920 - root_mean_squared_error: 0.3034\n",
            "Epoch 3/100\n",
            "84/84 [==============================] - 0s 3ms/step - loss: 0.0629 - root_mean_squared_error: 0.2508\n",
            "Epoch 4/100\n",
            "84/84 [==============================] - 0s 3ms/step - loss: 0.0457 - root_mean_squared_error: 0.2139\n",
            "Epoch 5/100\n",
            "84/84 [==============================] - 0s 4ms/step - loss: 0.0334 - root_mean_squared_error: 0.1828\n",
            "Epoch 6/100\n",
            "84/84 [==============================] - 0s 5ms/step - loss: 0.0258 - root_mean_squared_error: 0.1605\n",
            "Epoch 7/100\n",
            "84/84 [==============================] - 0s 5ms/step - loss: 0.0204 - root_mean_squared_error: 0.1429\n",
            "Epoch 8/100\n",
            "84/84 [==============================] - 0s 6ms/step - loss: 0.0166 - root_mean_squared_error: 0.1290\n",
            "Epoch 9/100\n",
            "84/84 [==============================] - 1s 6ms/step - loss: 0.0150 - root_mean_squared_error: 0.1225\n",
            "Epoch 10/100\n",
            "84/84 [==============================] - 0s 5ms/step - loss: 0.0125 - root_mean_squared_error: 0.1120\n",
            "Epoch 11/100\n",
            "84/84 [==============================] - 0s 5ms/step - loss: 0.0119 - root_mean_squared_error: 0.1089\n",
            "Epoch 12/100\n",
            "84/84 [==============================] - 0s 5ms/step - loss: 0.0121 - root_mean_squared_error: 0.1102\n",
            "Epoch 13/100\n",
            "84/84 [==============================] - 0s 5ms/step - loss: 0.0116 - root_mean_squared_error: 0.1077\n",
            "Epoch 14/100\n",
            "84/84 [==============================] - 0s 5ms/step - loss: 0.0115 - root_mean_squared_error: 0.1074\n",
            "Epoch 15/100\n",
            "84/84 [==============================] - 0s 6ms/step - loss: 0.0120 - root_mean_squared_error: 0.1096\n",
            "Epoch 16/100\n",
            "84/84 [==============================] - 0s 5ms/step - loss: 0.0111 - root_mean_squared_error: 0.1055\n",
            "Epoch 17/100\n",
            "84/84 [==============================] - 0s 4ms/step - loss: 0.0110 - root_mean_squared_error: 0.1047\n",
            "Epoch 18/100\n",
            "84/84 [==============================] - 0s 5ms/step - loss: 0.0111 - root_mean_squared_error: 0.1055\n",
            "Epoch 19/100\n",
            "84/84 [==============================] - 1s 6ms/step - loss: 0.0112 - root_mean_squared_error: 0.1056\n",
            "Epoch 20/100\n",
            "84/84 [==============================] - 1s 6ms/step - loss: 0.0110 - root_mean_squared_error: 0.1048\n",
            "Epoch 21/100\n",
            "84/84 [==============================] - 0s 5ms/step - loss: 0.0110 - root_mean_squared_error: 0.1050\n",
            "Epoch 22/100\n",
            "84/84 [==============================] - 0s 6ms/step - loss: 0.0103 - root_mean_squared_error: 0.1017\n",
            "Epoch 23/100\n",
            "84/84 [==============================] - 0s 5ms/step - loss: 0.0106 - root_mean_squared_error: 0.1031\n",
            "Epoch 24/100\n",
            "84/84 [==============================] - 0s 5ms/step - loss: 0.0100 - root_mean_squared_error: 0.1001\n",
            "Epoch 25/100\n",
            "84/84 [==============================] - 0s 5ms/step - loss: 0.0102 - root_mean_squared_error: 0.1010\n",
            "Epoch 26/100\n",
            "84/84 [==============================] - 1s 6ms/step - loss: 0.0095 - root_mean_squared_error: 0.0974\n",
            "Epoch 27/100\n",
            "84/84 [==============================] - 1s 6ms/step - loss: 0.0101 - root_mean_squared_error: 0.1007\n",
            "Epoch 28/100\n",
            "84/84 [==============================] - 0s 6ms/step - loss: 0.0103 - root_mean_squared_error: 0.1017\n",
            "Epoch 29/100\n",
            "84/84 [==============================] - 1s 7ms/step - loss: 0.0092 - root_mean_squared_error: 0.0961\n",
            "Epoch 30/100\n",
            "84/84 [==============================] - 0s 5ms/step - loss: 0.0097 - root_mean_squared_error: 0.0983\n",
            "Epoch 31/100\n",
            "84/84 [==============================] - 1s 6ms/step - loss: 0.0087 - root_mean_squared_error: 0.0933\n",
            "Epoch 32/100\n",
            "84/84 [==============================] - 1s 6ms/step - loss: 0.0087 - root_mean_squared_error: 0.0932\n",
            "Epoch 33/100\n",
            "84/84 [==============================] - 0s 6ms/step - loss: 0.0088 - root_mean_squared_error: 0.0940\n",
            "Epoch 34/100\n",
            "84/84 [==============================] - 1s 6ms/step - loss: 0.0089 - root_mean_squared_error: 0.0945\n",
            "Epoch 35/100\n",
            "84/84 [==============================] - 1s 7ms/step - loss: 0.0083 - root_mean_squared_error: 0.0911\n",
            "Epoch 36/100\n",
            "84/84 [==============================] - 1s 7ms/step - loss: 0.0086 - root_mean_squared_error: 0.0927\n",
            "Epoch 37/100\n",
            "84/84 [==============================] - 1s 7ms/step - loss: 0.0087 - root_mean_squared_error: 0.0932\n",
            "Epoch 38/100\n",
            "84/84 [==============================] - 0s 5ms/step - loss: 0.0084 - root_mean_squared_error: 0.0918\n",
            "Epoch 39/100\n",
            "84/84 [==============================] - 1s 6ms/step - loss: 0.0080 - root_mean_squared_error: 0.0893\n",
            "Epoch 40/100\n",
            "84/84 [==============================] - 1s 6ms/step - loss: 0.0080 - root_mean_squared_error: 0.0897\n",
            "Epoch 41/100\n",
            "84/84 [==============================] - 1s 7ms/step - loss: 0.0079 - root_mean_squared_error: 0.0889\n",
            "Epoch 42/100\n",
            "84/84 [==============================] - 1s 8ms/step - loss: 0.0077 - root_mean_squared_error: 0.0876\n",
            "Epoch 43/100\n",
            "84/84 [==============================] - 0s 5ms/step - loss: 0.0076 - root_mean_squared_error: 0.0874\n",
            "Epoch 44/100\n",
            "84/84 [==============================] - 0s 5ms/step - loss: 0.0078 - root_mean_squared_error: 0.0886\n",
            "Epoch 45/100\n",
            "84/84 [==============================] - 0s 5ms/step - loss: 0.0072 - root_mean_squared_error: 0.0849\n",
            "Epoch 46/100\n",
            "84/84 [==============================] - 0s 5ms/step - loss: 0.0079 - root_mean_squared_error: 0.0887\n",
            "Epoch 47/100\n",
            "84/84 [==============================] - 0s 5ms/step - loss: 0.0075 - root_mean_squared_error: 0.0867\n",
            "Epoch 48/100\n",
            "84/84 [==============================] - 0s 5ms/step - loss: 0.0069 - root_mean_squared_error: 0.0833\n",
            "Epoch 49/100\n",
            "84/84 [==============================] - 0s 5ms/step - loss: 0.0072 - root_mean_squared_error: 0.0850\n",
            "Epoch 50/100\n",
            "84/84 [==============================] - 0s 6ms/step - loss: 0.0068 - root_mean_squared_error: 0.0824\n",
            "Epoch 51/100\n",
            "84/84 [==============================] - 0s 6ms/step - loss: 0.0069 - root_mean_squared_error: 0.0829\n",
            "Epoch 52/100\n",
            "84/84 [==============================] - 0s 5ms/step - loss: 0.0066 - root_mean_squared_error: 0.0811\n",
            "Epoch 53/100\n",
            "84/84 [==============================] - 0s 5ms/step - loss: 0.0061 - root_mean_squared_error: 0.0781\n",
            "Epoch 54/100\n",
            "84/84 [==============================] - 1s 9ms/step - loss: 0.0066 - root_mean_squared_error: 0.0811\n",
            "Epoch 55/100\n",
            "84/84 [==============================] - 0s 5ms/step - loss: 0.0065 - root_mean_squared_error: 0.0806\n",
            "Epoch 56/100\n",
            "84/84 [==============================] - 0s 4ms/step - loss: 0.0061 - root_mean_squared_error: 0.0784\n",
            "Epoch 57/100\n",
            "84/84 [==============================] - 0s 4ms/step - loss: 0.0060 - root_mean_squared_error: 0.0778\n",
            "Epoch 58/100\n",
            "84/84 [==============================] - 0s 5ms/step - loss: 0.0061 - root_mean_squared_error: 0.0784\n",
            "Epoch 59/100\n",
            "84/84 [==============================] - 0s 5ms/step - loss: 0.0060 - root_mean_squared_error: 0.0774\n",
            "Epoch 60/100\n",
            "84/84 [==============================] - 0s 6ms/step - loss: 0.0063 - root_mean_squared_error: 0.0794\n",
            "Epoch 61/100\n",
            "84/84 [==============================] - 0s 5ms/step - loss: 0.0058 - root_mean_squared_error: 0.0762\n",
            "Epoch 62/100\n",
            "84/84 [==============================] - 1s 6ms/step - loss: 0.0062 - root_mean_squared_error: 0.0787\n",
            "Epoch 63/100\n",
            "84/84 [==============================] - 0s 4ms/step - loss: 0.0059 - root_mean_squared_error: 0.0770\n",
            "Epoch 64/100\n",
            "84/84 [==============================] - 0s 3ms/step - loss: 0.0058 - root_mean_squared_error: 0.0760\n",
            "Epoch 65/100\n",
            "84/84 [==============================] - 0s 3ms/step - loss: 0.0056 - root_mean_squared_error: 0.0748\n",
            "Epoch 66/100\n",
            "84/84 [==============================] - 0s 3ms/step - loss: 0.0060 - root_mean_squared_error: 0.0774\n",
            "Epoch 67/100\n",
            "84/84 [==============================] - 0s 3ms/step - loss: 0.0056 - root_mean_squared_error: 0.0750\n",
            "Epoch 68/100\n",
            "84/84 [==============================] - 0s 3ms/step - loss: 0.0055 - root_mean_squared_error: 0.0742\n",
            "Epoch 69/100\n",
            "84/84 [==============================] - 0s 3ms/step - loss: 0.0056 - root_mean_squared_error: 0.0746\n",
            "Epoch 70/100\n",
            "84/84 [==============================] - 0s 3ms/step - loss: 0.0058 - root_mean_squared_error: 0.0761\n",
            "Epoch 71/100\n",
            "84/84 [==============================] - 0s 3ms/step - loss: 0.0056 - root_mean_squared_error: 0.0751\n",
            "Epoch 72/100\n",
            "84/84 [==============================] - 0s 3ms/step - loss: 0.0061 - root_mean_squared_error: 0.0780\n",
            "Epoch 73/100\n",
            "84/84 [==============================] - 0s 3ms/step - loss: 0.0056 - root_mean_squared_error: 0.0745\n",
            "Epoch 74/100\n",
            "84/84 [==============================] - 0s 3ms/step - loss: 0.0053 - root_mean_squared_error: 0.0728\n",
            "Epoch 75/100\n",
            "84/84 [==============================] - 0s 3ms/step - loss: 0.0055 - root_mean_squared_error: 0.0743\n",
            "Epoch 76/100\n",
            "84/84 [==============================] - 0s 3ms/step - loss: 0.0055 - root_mean_squared_error: 0.0745\n",
            "Epoch 77/100\n",
            "84/84 [==============================] - 0s 3ms/step - loss: 0.0054 - root_mean_squared_error: 0.0735\n",
            "Epoch 78/100\n",
            "84/84 [==============================] - 0s 3ms/step - loss: 0.0055 - root_mean_squared_error: 0.0742\n",
            "Epoch 79/100\n",
            "84/84 [==============================] - 0s 3ms/step - loss: 0.0054 - root_mean_squared_error: 0.0735\n",
            "Epoch 80/100\n",
            "84/84 [==============================] - 0s 3ms/step - loss: 0.0052 - root_mean_squared_error: 0.0720\n",
            "Epoch 81/100\n",
            "84/84 [==============================] - 0s 3ms/step - loss: 0.0055 - root_mean_squared_error: 0.0742\n",
            "Epoch 82/100\n",
            "84/84 [==============================] - 0s 3ms/step - loss: 0.0056 - root_mean_squared_error: 0.0750\n",
            "Epoch 83/100\n",
            "84/84 [==============================] - 0s 3ms/step - loss: 0.0053 - root_mean_squared_error: 0.0728\n",
            "Epoch 84/100\n",
            "84/84 [==============================] - 0s 3ms/step - loss: 0.0055 - root_mean_squared_error: 0.0744\n",
            "Epoch 85/100\n",
            "84/84 [==============================] - 0s 2ms/step - loss: 0.0055 - root_mean_squared_error: 0.0741\n",
            "Epoch 86/100\n",
            "84/84 [==============================] - 0s 3ms/step - loss: 0.0053 - root_mean_squared_error: 0.0725\n",
            "Epoch 87/100\n",
            "84/84 [==============================] - 0s 3ms/step - loss: 0.0053 - root_mean_squared_error: 0.0728\n",
            "Epoch 88/100\n",
            "84/84 [==============================] - 0s 3ms/step - loss: 0.0054 - root_mean_squared_error: 0.0732\n",
            "Epoch 89/100\n",
            "84/84 [==============================] - 0s 3ms/step - loss: 0.0054 - root_mean_squared_error: 0.0733\n",
            "Epoch 90/100\n",
            "84/84 [==============================] - 0s 3ms/step - loss: 0.0055 - root_mean_squared_error: 0.0744\n",
            "Epoch 91/100\n",
            "84/84 [==============================] - 0s 3ms/step - loss: 0.0053 - root_mean_squared_error: 0.0728\n",
            "Epoch 92/100\n",
            "84/84 [==============================] - 0s 2ms/step - loss: 0.0050 - root_mean_squared_error: 0.0710\n",
            "Epoch 93/100\n",
            "84/84 [==============================] - 0s 3ms/step - loss: 0.0052 - root_mean_squared_error: 0.0724\n",
            "Epoch 94/100\n",
            "84/84 [==============================] - 0s 3ms/step - loss: 0.0055 - root_mean_squared_error: 0.0745\n",
            "Epoch 95/100\n",
            "84/84 [==============================] - 0s 3ms/step - loss: 0.0054 - root_mean_squared_error: 0.0738\n",
            "Epoch 96/100\n",
            "84/84 [==============================] - 0s 3ms/step - loss: 0.0052 - root_mean_squared_error: 0.0721\n",
            "Epoch 97/100\n",
            "84/84 [==============================] - 0s 3ms/step - loss: 0.0053 - root_mean_squared_error: 0.0730\n",
            "Epoch 98/100\n",
            "84/84 [==============================] - 0s 3ms/step - loss: 0.0053 - root_mean_squared_error: 0.0728\n",
            "Epoch 99/100\n",
            "84/84 [==============================] - 0s 3ms/step - loss: 0.0054 - root_mean_squared_error: 0.0734\n",
            "Epoch 100/100\n",
            "84/84 [==============================] - 0s 3ms/step - loss: 0.0052 - root_mean_squared_error: 0.0719\n"
          ]
        },
        {
          "output_type": "execute_result",
          "data": {
            "text/plain": [
              "<keras.callbacks.History at 0x7f34ab0ca690>"
            ]
          },
          "metadata": {},
          "execution_count": 12
        }
      ]
    },
    {
      "cell_type": "code",
      "source": [
        "model.evaluate(X_test, Y_test, batch_size = 1)"
      ],
      "metadata": {
        "id": "_l3vhcN-dXAf",
        "colab": {
          "base_uri": "https://localhost:8080/"
        },
        "outputId": "6f3862da-96b7-4824-cd9c-03548fb823dc"
      },
      "execution_count": 13,
      "outputs": [
        {
          "output_type": "stream",
          "name": "stdout",
          "text": [
            "36/36 [==============================] - 0s 2ms/step - loss: 0.0230 - root_mean_squared_error: 0.1517\n"
          ]
        },
        {
          "output_type": "execute_result",
          "data": {
            "text/plain": [
              "[0.02302224189043045, 0.15173082053661346]"
            ]
          },
          "metadata": {},
          "execution_count": 13
        }
      ]
    },
    {
      "cell_type": "code",
      "source": [
        "Y_train_preds = model.predict(X_train)\n",
        "Y_train_preds = scaler.inverse_transform(Y_train_preds).ravel()\n",
        "\n",
        "Y_train_true = scaler.inverse_transform(Y_train).ravel()\n",
        "\n",
        "Y_test_preds = model.predict(X_test)\n",
        "Y_test_preds = scaler.inverse_transform(Y_test_preds).ravel()\n",
        "\n",
        "Y_test_true = scaler.inverse_transform(Y_test).ravel()"
      ],
      "metadata": {
        "id": "Cl6zWBmVjgcO"
      },
      "execution_count": 14,
      "outputs": []
    },
    {
      "cell_type": "code",
      "source": [
        "Y_true_combined = np.concatenate((Y_train_true, Y_test_true))\n",
        "Y_preds_combined = np.concatenate((Y_train_preds, Y_test_preds))"
      ],
      "metadata": {
        "id": "3kVv_Vpbkbgq"
      },
      "execution_count": 15,
      "outputs": []
    },
    {
      "cell_type": "code",
      "source": [
        "plt.plot(Y_true_combined, c = 'g', label = 'Actual')\n",
        "plt.plot(Y_preds_combined, c = 'r', label = 'Predicted')\n",
        "plt.legend()\n",
        "plt.show()"
      ],
      "metadata": {
        "colab": {
          "base_uri": "https://localhost:8080/",
          "height": 265
        },
        "id": "vy3QQecLkp7L",
        "outputId": "ba2cfd36-8bd3-44c4-d2cc-5d3194cd9377"
      },
      "execution_count": 16,
      "outputs": [
        {
          "output_type": "display_data",
          "data": {
            "text/plain": [
              "<Figure size 432x288 with 1 Axes>"
            ],
            "image/png": "[encoded data removed]"
          },
          "metadata": {
            "needs_background": "light"
          }
        }
      ]
    }
  ]
}